{
 "cells": [
  {
   "cell_type": "code",
   "execution_count": 1,
   "id": "b86c997a-02db-4e9b-b958-82a080ed21a9",
   "metadata": {},
   "outputs": [
    {
     "data": {
      "text/html": [
       "<div>\n",
       "<style scoped>\n",
       "    .dataframe tbody tr th:only-of-type {\n",
       "        vertical-align: middle;\n",
       "    }\n",
       "\n",
       "    .dataframe tbody tr th {\n",
       "        vertical-align: top;\n",
       "    }\n",
       "\n",
       "    .dataframe thead th {\n",
       "        text-align: right;\n",
       "    }\n",
       "</style>\n",
       "<table border=\"1\" class=\"dataframe\">\n",
       "  <thead>\n",
       "    <tr style=\"text-align: right;\">\n",
       "      <th></th>\n",
       "      <th>Area</th>\n",
       "      <th>MajorAxisLength</th>\n",
       "      <th>MinorAxisLength</th>\n",
       "      <th>Eccentricity</th>\n",
       "      <th>ConvexArea</th>\n",
       "      <th>Extent</th>\n",
       "      <th>Perimeter</th>\n",
       "      <th>Class</th>\n",
       "    </tr>\n",
       "  </thead>\n",
       "  <tbody>\n",
       "    <tr>\n",
       "      <th>0</th>\n",
       "      <td>87524</td>\n",
       "      <td>442.246011</td>\n",
       "      <td>253.291155</td>\n",
       "      <td>0.819738</td>\n",
       "      <td>90546</td>\n",
       "      <td>0.758651</td>\n",
       "      <td>1184.040</td>\n",
       "      <td>Kecimen</td>\n",
       "    </tr>\n",
       "    <tr>\n",
       "      <th>1</th>\n",
       "      <td>75166</td>\n",
       "      <td>406.690687</td>\n",
       "      <td>243.032436</td>\n",
       "      <td>0.801805</td>\n",
       "      <td>78789</td>\n",
       "      <td>0.684130</td>\n",
       "      <td>1121.786</td>\n",
       "      <td>Kecimen</td>\n",
       "    </tr>\n",
       "    <tr>\n",
       "      <th>2</th>\n",
       "      <td>90856</td>\n",
       "      <td>442.267048</td>\n",
       "      <td>266.328318</td>\n",
       "      <td>0.798354</td>\n",
       "      <td>93717</td>\n",
       "      <td>0.637613</td>\n",
       "      <td>1208.575</td>\n",
       "      <td>Kecimen</td>\n",
       "    </tr>\n",
       "    <tr>\n",
       "      <th>3</th>\n",
       "      <td>45928</td>\n",
       "      <td>286.540559</td>\n",
       "      <td>208.760042</td>\n",
       "      <td>0.684989</td>\n",
       "      <td>47336</td>\n",
       "      <td>0.699599</td>\n",
       "      <td>844.162</td>\n",
       "      <td>Kecimen</td>\n",
       "    </tr>\n",
       "    <tr>\n",
       "      <th>4</th>\n",
       "      <td>79408</td>\n",
       "      <td>352.190770</td>\n",
       "      <td>290.827533</td>\n",
       "      <td>0.564011</td>\n",
       "      <td>81463</td>\n",
       "      <td>0.792772</td>\n",
       "      <td>1073.251</td>\n",
       "      <td>Kecimen</td>\n",
       "    </tr>\n",
       "  </tbody>\n",
       "</table>\n",
       "</div>"
      ],
      "text/plain": [
       "    Area  MajorAxisLength  MinorAxisLength  Eccentricity  ConvexArea  \\\n",
       "0  87524       442.246011       253.291155      0.819738       90546   \n",
       "1  75166       406.690687       243.032436      0.801805       78789   \n",
       "2  90856       442.267048       266.328318      0.798354       93717   \n",
       "3  45928       286.540559       208.760042      0.684989       47336   \n",
       "4  79408       352.190770       290.827533      0.564011       81463   \n",
       "\n",
       "     Extent  Perimeter    Class  \n",
       "0  0.758651   1184.040  Kecimen  \n",
       "1  0.684130   1121.786  Kecimen  \n",
       "2  0.637613   1208.575  Kecimen  \n",
       "3  0.699599    844.162  Kecimen  \n",
       "4  0.792772   1073.251  Kecimen  "
      ]
     },
     "execution_count": 1,
     "metadata": {},
     "output_type": "execute_result"
    }
   ],
   "source": [
    "import pandas as pd\n",
    "df=pd.read_excel(\"Raisin_Dataset.xlsx\")\n",
    "df.head(5)"
   ]
  },
  {
   "cell_type": "code",
   "execution_count": null,
   "id": "969a793a-db41-4740-9a3d-ec4d11fcdee6",
   "metadata": {},
   "outputs": [],
   "source": []
  },
  {
   "cell_type": "code",
   "execution_count": null,
   "id": "536f689f-e22e-4b3f-98b4-f86304f4939d",
   "metadata": {},
   "outputs": [],
   "source": []
  },
  {
   "cell_type": "code",
   "execution_count": 3,
   "id": "dda370d3-803d-4f3a-a225-1ee13216f1c9",
   "metadata": {},
   "outputs": [],
   "source": [
    "X=df[['Area','MajorAxisLength','MinorAxisLength','Eccentricity','ConvexArea','Extent','Perimeter']]\n",
    "y=df['Class']\n",
    "from sklearn.model_selection import train_test_split\n",
    "X_train,X_test,y_train,y_test=train_test_split(X,y,test_size=0.2,random_state=10)"
   ]
  },
  {
   "cell_type": "code",
   "execution_count": 11,
   "id": "ea9505d6-34fb-4027-b133-9b587f05bf79",
   "metadata": {},
   "outputs": [],
   "source": [
    "from sklearn.preprocessing import StandardScaler,MinMaxScaler\n",
    "scalar=StandardScaler()\n",
    "scalar.fit(X)\n",
    "X_train_scaled=scalar.transform(X_train)\n",
    "X_test_scaled=scalar.transform(X_test)"
   ]
  },
  {
   "cell_type": "code",
   "execution_count": 12,
   "id": "5c17f76d-f0c8-48ee-9c78-e421707802d2",
   "metadata": {},
   "outputs": [
    {
     "data": {
      "text/plain": [
       "array([[ 0.98369528,  0.41344215,  1.83005975, ...,  1.06982849,\n",
       "        -1.39598956,  1.40080884],\n",
       "       [ 1.42589144,  0.33065747,  2.8586639 , ...,  1.35328748,\n",
       "         0.94973473,  0.93602325],\n",
       "       [ 0.10158614,  0.02447351,  0.3162051 , ...,  0.05629692,\n",
       "        -0.12319515, -0.00300658],\n",
       "       ...,\n",
       "       [ 1.94040593,  1.41267887,  1.94025974, ...,  1.87217696,\n",
       "         0.09689362,  1.66678384],\n",
       "       [-0.85910087, -0.68228209, -1.1222849 , ..., -0.86451533,\n",
       "        -0.81612799, -0.8599019 ],\n",
       "       [-0.22886166, -0.30895625,  0.04957521, ..., -0.25064868,\n",
       "        -0.39412057, -0.26752331]], shape=(720, 7))"
      ]
     },
     "execution_count": 12,
     "metadata": {},
     "output_type": "execute_result"
    }
   ],
   "source": [
    "X_train_scaled"
   ]
  },
  {
   "cell_type": "code",
   "execution_count": 13,
   "id": "014cb266-fb71-4f8c-83ae-1d4891bf0a2b",
   "metadata": {},
   "outputs": [
    {
     "name": "stdout",
     "output_type": "stream",
     "text": [
      "              precision    recall  f1-score   support\n",
      "\n",
      "       Besni       0.91      0.83      0.87        83\n",
      "     Kecimen       0.87      0.93      0.90        97\n",
      "\n",
      "    accuracy                           0.88       180\n",
      "   macro avg       0.89      0.88      0.88       180\n",
      "weighted avg       0.88      0.88      0.88       180\n",
      "\n"
     ]
    },
    {
     "data": {
      "text/plain": [
       "array([419], dtype=int32)"
      ]
     },
     "execution_count": 13,
     "metadata": {},
     "output_type": "execute_result"
    }
   ],
   "source": [
    "#No scaling\n",
    "from sklearn.svm import SVC\n",
    "model=SVC(kernel=\"rbf\")\n",
    "model.fit(X_train_scaled,y_train)\n",
    "y_pred=model.predict(X_test_scaled)\n",
    "from sklearn.metrics import classification_report\n",
    "report=classification_report(y_test,y_pred)\n",
    "print(report)\n",
    "model.n_iter_"
   ]
  },
  {
   "cell_type": "code",
   "execution_count": null,
   "id": "4e55bd95-5596-450d-919c-c3c0ba36547e",
   "metadata": {},
   "outputs": [],
   "source": [
    "#No scaling\n",
    "from sklearn.svm import SVC\n",
    "model=SVC(kernel=\"rbf\")\n",
    "model.fit(X_train,y_train)\n",
    "y_pred=model.predict(X_test)\n",
    "from sklearn.metrics import classification_report\n",
    "report=classification_report(y_test,y_pred)\n",
    "print(report)\n",
    "model.n_iter_"
   ]
  },
  {
   "cell_type": "code",
   "execution_count": 7,
   "id": "69d5356a-87e1-4b56-8b3d-461271b8026d",
   "metadata": {},
   "outputs": [
    {
     "name": "stdout",
     "output_type": "stream",
     "text": [
      "              precision    recall  f1-score   support\n",
      "\n",
      "       Besni       0.91      0.88      0.90        83\n",
      "     Kecimen       0.90      0.93      0.91        97\n",
      "\n",
      "    accuracy                           0.91       180\n",
      "   macro avg       0.91      0.90      0.90       180\n",
      "weighted avg       0.91      0.91      0.91       180\n",
      "\n"
     ]
    },
    {
     "data": {
      "text/plain": [
       "array([85005907], dtype=int32)"
      ]
     },
     "execution_count": 7,
     "metadata": {},
     "output_type": "execute_result"
    }
   ],
   "source": [
    "from sklearn.svm import SVC\n",
    "model=SVC(kernel=\"linear\")\n",
    "model.fit(X_train,y_train)\n",
    "y_pred=model.predict(X_test)\n",
    "from sklearn.metrics import classification_report\n",
    "report=classification_report(y_test,y_pred)\n",
    "print(report)\n",
    "model.n_iter_"
   ]
  },
  {
   "cell_type": "code",
   "execution_count": null,
   "id": "1a5b68a4-b12d-453d-bf2b-3b7a3823e773",
   "metadata": {},
   "outputs": [],
   "source": []
  }
 ],
 "metadata": {
  "kernelspec": {
   "display_name": "Python 3 (ipykernel)",
   "language": "python",
   "name": "python3"
  },
  "language_info": {
   "codemirror_mode": {
    "name": "ipython",
    "version": 3
   },
   "file_extension": ".py",
   "mimetype": "text/x-python",
   "name": "python",
   "nbconvert_exporter": "python",
   "pygments_lexer": "ipython3",
   "version": "3.11.8"
  }
 },
 "nbformat": 4,
 "nbformat_minor": 5
}
